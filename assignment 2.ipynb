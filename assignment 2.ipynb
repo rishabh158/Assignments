{
 "cells": [
  {
   "cell_type": "code",
   "execution_count": 10,
   "metadata": {},
   "outputs": [
    {
     "data": {
      "text/plain": [
       "[28]"
      ]
     },
     "execution_count": 10,
     "metadata": {},
     "output_type": "execute_result"
    }
   ],
   "source": [
    "# Task1 , 1.1\n",
    "#Write a Python Program to implement your own myreduce() function which works exactly like Python's built-in function reduce()\n",
    "\n",
    "def myreduce(x,y):\n",
    "    l = len(y)-1\n",
    "    a=[]\n",
    "    \n",
    "    for i in range(l):\n",
    "        a.append(x(y[0],y[1]))\n",
    "        y.insert(0,a[i])\n",
    "        y.pop(1)\n",
    "        y.pop(1)\n",
    "       \n",
    "    return y\n",
    "\n",
    "\n",
    "###################################\n",
    "\n",
    "def add(x,y):\n",
    "    c= x+y\n",
    "    return c\n",
    "\n",
    "##########################################Output\n",
    "\n",
    "b = [1,2,3,4,5,6,7]\n",
    "myreduce(add , b)\n",
    "        "
   ]
  },
  {
   "cell_type": "code",
   "execution_count": 31,
   "metadata": {},
   "outputs": [
    {
     "name": "stdout",
     "output_type": "stream",
     "text": [
      "Even no. are [2, 4, 6, 8, 76]\n",
      "Prime no. are [3, 5, 7, 17, 23]\n"
     ]
    }
   ],
   "source": [
    "# Task1,  1.2\n",
    "#Write a Python program to implement your own myfilter() function which works exactly like Python's built-in function filter()\n",
    "\n",
    "\n",
    "def myfilter(x,y):\n",
    "    n = len(y)\n",
    "    a = []\n",
    "    for i in range(n):\n",
    "        if x(y[i]) ==True:\n",
    "            a.append(y[i])\n",
    "        \n",
    "    return a\n",
    "#############################################\n",
    "\n",
    "def even_chk(x):\n",
    "    if x%2 ==0:\n",
    "        return True\n",
    "    \n",
    "##############################################################\n",
    "\n",
    "def prime(x):\n",
    "    for i in range(2,x):\n",
    "        if x%i ==0:\n",
    "            return False\n",
    "            continue\n",
    "    else:\n",
    "        return True\n",
    "\n",
    "\n",
    "################Output 1\n",
    "\n",
    "l = [1,2,3,4,5,6,7,8,9,17,23,45,76,99] \n",
    "\n",
    "even = myfilter(even_chk,l)\n",
    "\n",
    "print(\"Even no. are %s\" %even)\n",
    "\n",
    "################Output 2\n",
    "\n",
    "\n",
    "m = [3,4,5,6,7,8,9,17,23,45,76,99] \n",
    "\n",
    "prime_nu = myfilter(prime,m)\n",
    "\n",
    "print(\"Prime no. are %s\" %prime_nu)\n",
    "    \n"
   ]
  },
  {
   "cell_type": "code",
   "execution_count": 64,
   "metadata": {},
   "outputs": [
    {
     "name": "stdout",
     "output_type": "stream",
     "text": [
      "['A', 'C', 'A', 'D', 'G', 'I', 'L', 'D']\n",
      "['x', 'xx', 'xxx', 'xxxx', 'y', 'yy', 'yyy', 'yyyy', 'z', 'zz', 'zzz', 'zzzz']\n",
      "['x', 'xx', 'xxx', 'xxxx', 'y', 'yy', 'yyy', 'yyyy', 'z', 'zz', 'zzz', 'zzzz']\n",
      "['x', 'y', 'z', 'xx', 'yy', 'zz', 'xxx', 'yyy', 'zzz', 'xxxx', 'yyyy', 'zzzz']\n",
      "['x', 'y', 'z', 'xx', 'yy', 'zz', 'xxx', 'yyy', 'zzz', 'xxxx', 'yyyy', 'zzzz']\n",
      "[[2], [3], [4], [3], [4], [5], [4], [5], [6]]\n",
      "[[2], [3], [4], [3], [4], [5], [4], [5], [6]]\n",
      "[[2, 3, 4, 5], [3, 4, 5, 6], [4, 5, 6, 7], [5, 6, 7, 8]]\n",
      "[(1, 1), (2, 1), (3, 1), (1, 2), (2, 2), (3, 2), (1, 3), (2, 3), (3, 3)]\n"
     ]
    }
   ],
   "source": [
    "# Task 1, 2\n",
    "#Implement List comprehensions to produce the following lists.\n",
    "#Write List comprehensions to produce the following Lists\n",
    "\n",
    "#1 ['A', 'C', 'A', 'D', 'G', 'I', ’L’, ‘ D’]\n",
    "word = 'ACADGILD'\n",
    "List1 = [x for x in word]\n",
    "print(List1)\n",
    "\n",
    "################################################################################################################\n",
    "\n",
    "#2 ['x', 'xx', 'xxx', 'xxxx', 'y', 'yy', 'yyy', 'yyyy', 'z', 'zz', 'zzz', 'zzzz']\n",
    "\n",
    "l = ['x','y','z']\n",
    "print([i*num for i in l for num in range(1,5)])\n",
    "\n",
    "a = []\n",
    "for i in l:\n",
    "    for num in range(1,5):\n",
    "        a.append(i*num)\n",
    "print(a)\n",
    "\n",
    "################################################################################################################\n",
    "\n",
    "#3 ['x', 'y', 'z', 'xx', 'yy', 'zz', 'xx', 'yy', 'zz', 'xxxx', 'yyyy', 'zzzz']\n",
    "\n",
    "print([i*num for num in range(1,5) for i in l])\n",
    "\n",
    "a = []\n",
    "for j in range(1,5):\n",
    "    for i in l:\n",
    "        a.append(i*j)\n",
    "print(a)\n",
    "\n",
    "###############################################################################################################\n",
    "\n",
    "#4 [[2], [3], [4], [3], [4], [5], [4], [5], [6]]\n",
    " \n",
    "print([[i+k] for i in range(2,5) for k in range(0,3)])\n",
    "\n",
    "m =[]\n",
    "for k in range(0,3):\n",
    "    for i in range(2,5):\n",
    "        m.append([i+k])\n",
    "print(m)\n",
    "\n",
    "\n",
    "#5[[2, 3, 4, 5], [3, 4, 5, 6], [4, 5, 6, 7], [5, 6, 7, 8]]\n",
    "\n",
    "print([[i+k for i in range(2,6)] for k in range(0,4)])\n",
    "\n",
    "\n",
    "\n",
    "#[(1, 1), (2, 1), (3, 1), (1, 2), (2, 2), (3, 2), (1, 3), (2, 3), (3, 3)]\n",
    "\n",
    "m=[]\n",
    "for i in range(1,4):\n",
    "    for j in range(1,4):\n",
    "        m.append((j,i))\n",
    "        \n",
    "print(m)\n",
    "\n",
    "n = [(j,i) for i in range(1,4) for j in range(1,4)]\n",
    "\n",
    "\n",
    "\n"
   ]
  },
  {
   "cell_type": "code",
   "execution_count": 65,
   "metadata": {
    "scrolled": true
   },
   "outputs": [
    {
     "name": "stdout",
     "output_type": "stream",
     "text": [
      "Harman Connected Services\n"
     ]
    }
   ],
   "source": [
    "#Task 1, 3\n",
    "#Implement a function longestWord() that takes a list of words and returns the longest one.\n",
    "\n",
    "def longestWord(x):\n",
    "    from functools import reduce\n",
    "    a =[]\n",
    "    n = len(x)\n",
    "    for i in range(n):\n",
    "        b = len(x[i])\n",
    "        a.append(b)\n",
    "        c = reduce(lambda x,y: x if x>y else y,a)\n",
    "        d = a.index(c)\n",
    "        \n",
    "    \n",
    "    print(x[d])\n",
    "\n",
    "\n",
    "########################################################### Output\n",
    "x =['Rish', 'Neekhara', 'Data Science', 'Harman Connected Services']\n",
    "\n",
    "longestWord(x)"
   ]
  },
  {
   "cell_type": "code",
   "execution_count": 110,
   "metadata": {},
   "outputs": [
    {
     "name": "stdout",
     "output_type": "stream",
     "text": [
      "Please enter First side of Triangle: 25\n",
      "Please enter Second side of Triangle: 25\n",
      "Please enter Thord side of Triangle: 25\n",
      "270.6329386826371\n"
     ]
    }
   ],
   "source": [
    "# Task 2 , 1.1\n",
    "#Write a Python Program(with class concepts) to find the area of the triangle using the below\n",
    "#formula.\n",
    "#area = (s*(s-a)*(s-b)*(s-c)) ** 0.5\n",
    "#Function to take the length of the sides of triangle from user should be defined in the parent\n",
    "#class and function to calculate the area should be defined in subclass\n",
    "\n",
    "a = int(input(\"Please enter First side of Triangle: \"))\n",
    "b = int(input(\"Please enter Second side of Triangle: \"))\n",
    "c = int(input(\"Please enter Thord side of Triangle: \"))\n",
    "\n",
    "class Triangle:\n",
    "    def __init__ (self,a,b,c):\n",
    "        self.a = a\n",
    "        self.b = b\n",
    "        self.c = c\n",
    "        \n",
    "    def area(self):\n",
    "        s = (self.a+self.b+self.c)/2\n",
    "        area=(s*(s-self.a)*(s-self.b)*(s-self.c))**0.5\n",
    "        return area\n",
    "\n",
    "t = Triangle(a,b,c)\n",
    "print(t.area())\n"
   ]
  },
  {
   "cell_type": "code",
   "execution_count": 34,
   "metadata": {},
   "outputs": [
    {
     "name": "stdout",
     "output_type": "stream",
     "text": [
      "data science\n",
      "social studies\n",
      "apna time ayega\n"
     ]
    }
   ],
   "source": [
    "# Task 2 , 1.2\n",
    "#Write a function filter_long_words() that takes a list of words and an integer n and returns the list \n",
    "#of words that are longer than n.\n",
    "\n",
    "\n",
    "def filter_long_words(x,n):\n",
    "    le = len(x)\n",
    "    for i in range(le):\n",
    "        if len(x[i])>n:\n",
    "             print(x[i])\n",
    "                \n",
    "\n",
    "####################Output\n",
    "x = ['rish', ' cat', 'data science', 'social studies', 'gwalior', 'apna time ayega']\n",
    "\n",
    "filter_long_words(x,7)"
   ]
  },
  {
   "cell_type": "code",
   "execution_count": 36,
   "metadata": {},
   "outputs": [
    {
     "name": "stdout",
     "output_type": "stream",
     "text": [
      "[2, 3, 4]\n"
     ]
    }
   ],
   "source": [
    "# Task 2, 2.1\n",
    "#Write a Python program using function concept that maps list of words into a list of integers \n",
    "#representing the lengths of the corresponding words .\n",
    "#Hint: If a list [ ab,cde,erty] is passed on to the python function output should come as [2,3,4]\n",
    "#Here 2,3 and 4 are the lengths of the words in the list.\n",
    "\n",
    "def maplength(ma):    \n",
    "    a =[]\n",
    "    n = len(ma)\n",
    "    for i in range(n):\n",
    "        b = len(ma[i])\n",
    "        a.append(b)\n",
    "       \n",
    "    \n",
    "    print(a)\n",
    "    \n",
    "###########################Output\n",
    "\n",
    "ma= [ 'ab','cde','erty']\n",
    "\n",
    "maplength(ma)"
   ]
  },
  {
   "cell_type": "code",
   "execution_count": 43,
   "metadata": {},
   "outputs": [
    {
     "data": {
      "text/plain": [
       "[False, False, True, True, False, True, False, True, False, False]"
      ]
     },
     "execution_count": 43,
     "metadata": {},
     "output_type": "execute_result"
    }
   ],
   "source": [
    "# Task 2, 2.2\n",
    "#Write a Python function which takes a character (i.e. a string of length 1) and returns True if it is\n",
    "#a vowel, False otherwise.\n",
    "\n",
    "def vowel_test(n):\n",
    "        \n",
    "    def vowel(n):\n",
    "        if n == 'a' or n == 'e' or n == 'i' or n == 'o' or n == 'u':\n",
    "            return True\n",
    "        else:\n",
    "            return False\n",
    "        \n",
    "    return list(map(vowel,n))\n",
    "\n",
    "###############################Output\n",
    "m =['q', 'r','a','e','l', 'o','p','u','t','r']\n",
    "\n",
    "vowel_test(m)"
   ]
  },
  {
   "cell_type": "code",
   "execution_count": null,
   "metadata": {},
   "outputs": [],
   "source": []
  },
  {
   "cell_type": "code",
   "execution_count": null,
   "metadata": {},
   "outputs": [],
   "source": []
  }
 ],
 "metadata": {
  "kernelspec": {
   "display_name": "Python 3",
   "language": "python",
   "name": "python3"
  },
  "language_info": {
   "codemirror_mode": {
    "name": "ipython",
    "version": 3
   },
   "file_extension": ".py",
   "mimetype": "text/x-python",
   "name": "python",
   "nbconvert_exporter": "python",
   "pygments_lexer": "ipython3",
   "version": "3.7.3"
  }
 },
 "nbformat": 4,
 "nbformat_minor": 2
}
